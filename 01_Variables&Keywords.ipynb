{
 "cells": [
  {
   "cell_type": "markdown",
   "id": "ee1f3f51",
   "metadata": {},
   "source": [
    "# **Variables and Keywords:**\n",
    "\n",
    "**A python variable is a reserved memory location to store values. In other words, a variable in a python program gives data to the computer for processing.**"
   ]
  },
  {
   "cell_type": "code",
   "execution_count": null,
   "id": "b7e5a3b4",
   "metadata": {},
   "outputs": [],
   "source": [
    "# 1, 25, 5 --> integer\n",
    "# 1,2, 3.4, 8.9 --> float\n",
    "# 'hello', 'how are you', 'good' --> string\n",
    "# true, false --> boolean"
   ]
  },
  {
   "cell_type": "code",
   "execution_count": 12,
   "id": "6d083323",
   "metadata": {},
   "outputs": [
    {
     "data": {
      "text/plain": [
       "int"
      ]
     },
     "execution_count": 12,
     "metadata": {},
     "output_type": "execute_result"
    }
   ],
   "source": [
    "my_age = 32\n",
    "my_age\n",
    "type(my_age)"
   ]
  },
  {
   "cell_type": "code",
   "execution_count": null,
   "id": "3a3ec10f",
   "metadata": {},
   "outputs": [
    {
     "name": "stdout",
     "output_type": "stream",
     "text": [
      "hello world\n"
     ]
    }
   ],
   "source": [
    "a='hello world'\n",
    "print(a)"
   ]
  },
  {
   "cell_type": "code",
   "execution_count": 15,
   "id": "d2ef0e00",
   "metadata": {},
   "outputs": [
    {
     "data": {
      "text/plain": [
       "float"
      ]
     },
     "execution_count": 15,
     "metadata": {},
     "output_type": "execute_result"
    }
   ],
   "source": [
    "\n",
    "score = 89.5\n",
    "type(score)"
   ]
  },
  {
   "cell_type": "code",
   "execution_count": 16,
   "id": "4822c3fa",
   "metadata": {},
   "outputs": [
    {
     "data": {
      "text/plain": [
       "True"
      ]
     },
     "execution_count": 16,
     "metadata": {},
     "output_type": "execute_result"
    }
   ],
   "source": [
    "a = True\n",
    "a"
   ]
  },
  {
   "cell_type": "code",
   "execution_count": 20,
   "id": "22d99969",
   "metadata": {},
   "outputs": [
    {
     "data": {
      "text/plain": [
       "5"
      ]
     },
     "execution_count": 20,
     "metadata": {},
     "output_type": "execute_result"
    }
   ],
   "source": [
    "a5 = 5\n",
    "a5"
   ]
  },
  {
   "cell_type": "code",
   "execution_count": 21,
   "id": "acfece05",
   "metadata": {},
   "outputs": [
    {
     "data": {
      "text/plain": [
       "9"
      ]
     },
     "execution_count": 21,
     "metadata": {},
     "output_type": "execute_result"
    }
   ],
   "source": [
    "a=4\n",
    "b=5\n",
    "c=a+5\n",
    "c"
   ]
  },
  {
   "cell_type": "code",
   "execution_count": 22,
   "id": "7c77118d",
   "metadata": {},
   "outputs": [
    {
     "data": {
      "text/plain": [
       "11"
      ]
     },
     "execution_count": 22,
     "metadata": {},
     "output_type": "execute_result"
    }
   ],
   "source": [
    "def sum_fun(a,b):\n",
    "    c = a+b\n",
    "    return c\n",
    "\n",
    "amt = sum_fun(5, 6)\n",
    "amt"
   ]
  },
  {
   "cell_type": "code",
   "execution_count": 23,
   "id": "992deb7a",
   "metadata": {},
   "outputs": [
    {
     "ename": "SyntaxError",
     "evalue": "invalid decimal literal (98011416.py, line 1)",
     "output_type": "error",
     "traceback": [
      "  \u001b[36mCell\u001b[39m\u001b[36m \u001b[39m\u001b[32mIn[23]\u001b[39m\u001b[32m, line 1\u001b[39m\n\u001b[31m    \u001b[39m\u001b[31m1anb = 'Test'\u001b[39m\n    ^\n\u001b[31mSyntaxError\u001b[39m\u001b[31m:\u001b[39m invalid decimal literal\n"
     ]
    }
   ],
   "source": [
    "1anb = 'Test'\n",
    "1anb"
   ]
  }
 ],
 "metadata": {
  "kernelspec": {
   "display_name": "Python 3",
   "language": "python",
   "name": "python3"
  },
  "language_info": {
   "codemirror_mode": {
    "name": "ipython",
    "version": 3
   },
   "file_extension": ".py",
   "mimetype": "text/x-python",
   "name": "python",
   "nbconvert_exporter": "python",
   "pygments_lexer": "ipython3",
   "version": "3.13.5"
  }
 },
 "nbformat": 4,
 "nbformat_minor": 5
}
